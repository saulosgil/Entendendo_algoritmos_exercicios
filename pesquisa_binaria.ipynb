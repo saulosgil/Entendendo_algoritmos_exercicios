{
 "cells": [
  {
   "cell_type": "markdown",
   "id": "9b762f44-2104-4667-81af-1e1670d535c1",
   "metadata": {},
   "source": [
    "**PESQUISA BINÁRIA - PÁGINA 26 - CAPÍTULO 1 - INTRODUÇÃO A ALGORITMOS**"
   ]
  },
  {
   "cell_type": "code",
   "execution_count": 14,
   "id": "3e721ca3-d26a-4743-befe-9860c3a8d2a9",
   "metadata": {},
   "outputs": [],
   "source": [
    "# função para realizar pesquisa binária\n",
    "\n",
    "def pesquisa_interativa(lista, item):\n",
    "    # baixo e alto para saber em qual parte da lista você pesquisará.\n",
    "    baixo = 0\n",
    "    alto = len(lista) - 1\n",
    "\n",
    "    # Enquanto você ainda não conseguiu chegar a um único número.\n",
    "    while baixo <= alto:\n",
    "      # ... Verifica o elemento central.\n",
    "      meio = (baixo + alto) // 2\n",
    "      chute = lista[meio]\n",
    "      # Encontra o item.\n",
    "      if chute == item:\n",
    "        return meio\n",
    "      # O chute foi muito alto.\n",
    "      if chute > item:\n",
    "        alto = meio - 1\n",
    "      # O chute foi muito baixo.\n",
    "      else:\n",
    "        baixo = meio + 1\n",
    "\n",
    "    # O item procurado não existe na lista\n",
    "    return None"
   ]
  },
  {
   "cell_type": "markdown",
   "id": "a4551778-0ffe-4f85-9868-76af2da28709",
   "metadata": {},
   "source": [
    "**VAMOS TESTAR O ALGORITMO!!!**\n"
   ]
  },
  {
   "cell_type": "code",
   "execution_count": 15,
   "id": "f56569de-c164-4a2d-ade1-c281020462ac",
   "metadata": {},
   "outputs": [
    {
     "data": {
      "text/plain": [
       "[1, 3, 5, 7, 9]"
      ]
     },
     "execution_count": 15,
     "metadata": {},
     "output_type": "execute_result"
    }
   ],
   "source": [
    "# Criando uma lista para testar\n",
    "minha_lista = [1, 3, 5, 7, 9]\n",
    "minha_lista"
   ]
  },
  {
   "cell_type": "markdown",
   "id": "8732f274-3eeb-42be-9a87-7a2dde4f9962",
   "metadata": {},
   "source": [
    "**BUSCANDO O NÚMERO 5 E O -1 (NÃO EXISTE)**"
   ]
  },
  {
   "cell_type": "code",
   "execution_count": 13,
   "id": "ff3b28de-f56c-4fea-bf2c-15c889779991",
   "metadata": {},
   "outputs": [
    {
     "name": "stdout",
     "output_type": "stream",
     "text": [
      "2\n",
      "None\n"
     ]
    }
   ],
   "source": [
    "# Procurando o número 3 na lista\n",
    "print(pesquisa_interativa(minha_lista, 5)) # => 2\n",
    "\n",
    "# Procurando o número -1 na lista (não existe)\n",
    "print(pesquisa_interativa(minha_lista, -1)) # => None"
   ]
  }
 ],
 "metadata": {
  "kernelspec": {
   "display_name": "Python 3 (ipykernel)",
   "language": "python",
   "name": "python3"
  },
  "language_info": {
   "codemirror_mode": {
    "name": "ipython",
    "version": 3
   },
   "file_extension": ".py",
   "mimetype": "text/x-python",
   "name": "python",
   "nbconvert_exporter": "python",
   "pygments_lexer": "ipython3",
   "version": "3.9.7"
  }
 },
 "nbformat": 4,
 "nbformat_minor": 5
}
